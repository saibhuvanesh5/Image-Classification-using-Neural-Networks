{
 "cells": [
  {
   "cell_type": "markdown",
   "metadata": {
    "colab_type": "text",
    "id": "3DR-eO17geWu"
   },
   "source": [
    "# Convolutional Neural Network"
   ]
  },
  {
   "cell_type": "markdown",
   "metadata": {
    "colab_type": "text",
    "id": "EMefrVPCg-60"
   },
   "source": [
    "### Importing the libraries"
   ]
  },
  {
   "cell_type": "code",
   "execution_count": 1,
   "metadata": {
    "colab": {},
    "colab_type": "code",
    "id": "sCV30xyVhFbE"
   },
   "outputs": [],
   "source": [
    "import tensorflow as tf\n",
    "from keras.preprocessing.image import ImageDataGenerator"
   ]
  },
  {
   "cell_type": "markdown",
   "metadata": {
    "colab_type": "text",
    "id": "oxQxCBWyoGPE"
   },
   "source": [
    "## Part 1 - Data Preprocessing"
   ]
  },
  {
   "cell_type": "markdown",
   "metadata": {
    "colab_type": "text",
    "id": "MvE-heJNo3GG"
   },
   "source": [
    "### Preprocessing the Training set"
   ]
  },
  {
   "cell_type": "code",
   "execution_count": 2,
   "metadata": {
    "colab": {},
    "colab_type": "code",
    "id": "0koUcJMJpEBD"
   },
   "outputs": [
    {
     "name": "stdout",
     "output_type": "stream",
     "text": [
      "Found 8005 images belonging to 2 classes.\n"
     ]
    }
   ],
   "source": [
    "train_datagen = ImageDataGenerator(rescale = 1./255,\n",
    "                                   shear_range = 0.2,\n",
    "                                   zoom_range = 0.2,\n",
    "                                   horizontal_flip = True)\n",
    "training_set = train_datagen.flow_from_directory(r\"\\Users\\Tejas\\Downloads\\archive (2)\\training_set\\training_set\",\n",
    "                                                 target_size = (64, 64),\n",
    "                                                 batch_size = 32,\n",
    "                                                 class_mode = 'binary')"
   ]
  },
  {
   "cell_type": "markdown",
   "metadata": {
    "colab_type": "text",
    "id": "mrCMmGw9pHys"
   },
   "source": [
    "### Preprocessing the Test set"
   ]
  },
  {
   "cell_type": "code",
   "execution_count": 3,
   "metadata": {
    "colab": {},
    "colab_type": "code",
    "id": "SH4WzfOhpKc3"
   },
   "outputs": [
    {
     "name": "stdout",
     "output_type": "stream",
     "text": [
      "Found 2023 images belonging to 2 classes.\n"
     ]
    }
   ],
   "source": [
    "test_datagen = ImageDataGenerator(rescale = 1./255)\n",
    "test_set = test_datagen.flow_from_directory(r\"\\Users\\Tejas\\Downloads\\archive (2)\\test_set\\test_set\",\n",
    "                                            target_size = (64, 64),\n",
    "                                            batch_size = 32,\n",
    "                                            class_mode = 'binary')"
   ]
  },
  {
   "cell_type": "markdown",
   "metadata": {
    "colab_type": "text",
    "id": "af8O4l90gk7B"
   },
   "source": [
    "## Part 2 - Building the CNN"
   ]
  },
  {
   "cell_type": "markdown",
   "metadata": {
    "colab_type": "text",
    "id": "ces1gXY2lmoX"
   },
   "source": [
    "### Initialising the CNN"
   ]
  },
  {
   "cell_type": "code",
   "execution_count": 4,
   "metadata": {
    "colab": {},
    "colab_type": "code",
    "id": "SAUt4UMPlhLS"
   },
   "outputs": [],
   "source": [
    "cnn = tf.keras.models.Sequential()"
   ]
  },
  {
   "cell_type": "markdown",
   "metadata": {
    "colab_type": "text",
    "id": "u5YJj_XMl5LF"
   },
   "source": [
    "### Step 1 - Convolution"
   ]
  },
  {
   "cell_type": "code",
   "execution_count": 5,
   "metadata": {
    "colab": {},
    "colab_type": "code",
    "id": "XPzPrMckl-hV"
   },
   "outputs": [],
   "source": [
    "cnn.add(tf.keras.layers.Conv2D(filters=32, kernel_size=3, activation='relu', input_shape=[64, 64, 3]))"
   ]
  },
  {
   "cell_type": "markdown",
   "metadata": {
    "colab_type": "text",
    "id": "tf87FpvxmNOJ"
   },
   "source": [
    "### Step 2 - Pooling"
   ]
  },
  {
   "cell_type": "code",
   "execution_count": 6,
   "metadata": {
    "colab": {},
    "colab_type": "code",
    "id": "ncpqPl69mOac"
   },
   "outputs": [],
   "source": [
    "cnn.add(tf.keras.layers.MaxPool2D(pool_size=2, strides=2))"
   ]
  },
  {
   "cell_type": "markdown",
   "metadata": {
    "colab_type": "text",
    "id": "xaTOgD8rm4mU"
   },
   "source": [
    "### Adding a second convolutional layer"
   ]
  },
  {
   "cell_type": "code",
   "execution_count": 7,
   "metadata": {
    "colab": {},
    "colab_type": "code",
    "id": "i_-FZjn_m8gk"
   },
   "outputs": [],
   "source": [
    "cnn.add(tf.keras.layers.Conv2D(filters=32, kernel_size=3, activation='relu'))\n",
    "cnn.add(tf.keras.layers.MaxPool2D(pool_size=2, strides=2))"
   ]
  },
  {
   "cell_type": "markdown",
   "metadata": {
    "colab_type": "text",
    "id": "tmiEuvTunKfk"
   },
   "source": [
    "### Step 3 - Flattening"
   ]
  },
  {
   "cell_type": "code",
   "execution_count": 8,
   "metadata": {
    "colab": {},
    "colab_type": "code",
    "id": "6AZeOGCvnNZn"
   },
   "outputs": [],
   "source": [
    "cnn.add(tf.keras.layers.Flatten())"
   ]
  },
  {
   "cell_type": "markdown",
   "metadata": {
    "colab_type": "text",
    "id": "dAoSECOm203v"
   },
   "source": [
    "### Step 4 - Full Connection"
   ]
  },
  {
   "cell_type": "code",
   "execution_count": 9,
   "metadata": {
    "colab": {},
    "colab_type": "code",
    "id": "8GtmUlLd26Nq"
   },
   "outputs": [],
   "source": [
    "cnn.add(tf.keras.layers.Dense(units=128, activation='relu'))"
   ]
  },
  {
   "cell_type": "markdown",
   "metadata": {
    "colab_type": "text",
    "id": "yTldFvbX28Na"
   },
   "source": [
    "### Step 5 - Output Layer"
   ]
  },
  {
   "cell_type": "code",
   "execution_count": 10,
   "metadata": {
    "colab": {},
    "colab_type": "code",
    "id": "1p_Zj1Mc3Ko_"
   },
   "outputs": [],
   "source": [
    "cnn.add(tf.keras.layers.Dense(units=1, activation='sigmoid'))"
   ]
  },
  {
   "cell_type": "markdown",
   "metadata": {
    "colab_type": "text",
    "id": "D6XkI90snSDl"
   },
   "source": [
    "## Part 3 - Training the CNN"
   ]
  },
  {
   "cell_type": "markdown",
   "metadata": {
    "colab_type": "text",
    "id": "vfrFQACEnc6i"
   },
   "source": [
    "### Compiling the CNN"
   ]
  },
  {
   "cell_type": "code",
   "execution_count": 11,
   "metadata": {
    "colab": {},
    "colab_type": "code",
    "id": "NALksrNQpUlJ"
   },
   "outputs": [],
   "source": [
    "cnn.compile(optimizer = 'adam', loss = 'binary_crossentropy', metrics = ['accuracy'])"
   ]
  },
  {
   "cell_type": "markdown",
   "metadata": {
    "colab_type": "text",
    "id": "ehS-v3MIpX2h"
   },
   "source": [
    "### Training the CNN on the Training set and evaluating it on the Test set"
   ]
  },
  {
   "cell_type": "code",
   "execution_count": 12,
   "metadata": {
    "scrolled": false
   },
   "outputs": [
    {
     "name": "stdout",
     "output_type": "stream",
     "text": [
      "Epoch 1/25\n",
      "251/251 [==============================] - 95s 377ms/step - loss: 0.6749 - accuracy: 0.5826 - val_loss: 0.6486 - val_accuracy: 0.6584\n",
      "Epoch 2/25\n",
      "251/251 [==============================] - 76s 303ms/step - loss: 0.5998 - accuracy: 0.6877 - val_loss: 0.5959 - val_accuracy: 0.6871\n",
      "Epoch 3/25\n",
      "251/251 [==============================] - 76s 302ms/step - loss: 0.5542 - accuracy: 0.7101 - val_loss: 0.5667 - val_accuracy: 0.7207\n",
      "Epoch 4/25\n",
      "251/251 [==============================] - 75s 298ms/step - loss: 0.5202 - accuracy: 0.7399 - val_loss: 0.5287 - val_accuracy: 0.7365\n",
      "Epoch 5/25\n",
      "251/251 [==============================] - 76s 302ms/step - loss: 0.4961 - accuracy: 0.7595 - val_loss: 0.5028 - val_accuracy: 0.7504\n",
      "Epoch 6/25\n",
      "251/251 [==============================] - 76s 302ms/step - loss: 0.4748 - accuracy: 0.7699 - val_loss: 0.5061 - val_accuracy: 0.7677\n",
      "Epoch 7/25\n",
      "251/251 [==============================] - 76s 302ms/step - loss: 0.4600 - accuracy: 0.7850 - val_loss: 0.4910 - val_accuracy: 0.7766\n",
      "Epoch 8/25\n",
      "251/251 [==============================] - 52s 207ms/step - loss: 0.4469 - accuracy: 0.7859 - val_loss: 0.4988 - val_accuracy: 0.7647\n",
      "Epoch 9/25\n",
      "251/251 [==============================] - 44s 176ms/step - loss: 0.4356 - accuracy: 0.7965 - val_loss: 0.4692 - val_accuracy: 0.7914\n",
      "Epoch 10/25\n",
      "251/251 [==============================] - 44s 177ms/step - loss: 0.4140 - accuracy: 0.8084 - val_loss: 0.4746 - val_accuracy: 0.7800\n",
      "Epoch 11/25\n",
      "251/251 [==============================] - 50s 199ms/step - loss: 0.4071 - accuracy: 0.8134 - val_loss: 0.4607 - val_accuracy: 0.7899\n",
      "Epoch 12/25\n",
      "251/251 [==============================] - 47s 189ms/step - loss: 0.3919 - accuracy: 0.8200 - val_loss: 0.4936 - val_accuracy: 0.7870\n",
      "Epoch 13/25\n",
      "251/251 [==============================] - 45s 178ms/step - loss: 0.3841 - accuracy: 0.8241 - val_loss: 0.4846 - val_accuracy: 0.7845\n",
      "Epoch 14/25\n",
      "251/251 [==============================] - 45s 178ms/step - loss: 0.3641 - accuracy: 0.8380 - val_loss: 0.4652 - val_accuracy: 0.8062\n",
      "Epoch 15/25\n",
      "251/251 [==============================] - 45s 178ms/step - loss: 0.3491 - accuracy: 0.8413 - val_loss: 0.4829 - val_accuracy: 0.7968\n",
      "Epoch 16/25\n",
      "251/251 [==============================] - 44s 177ms/step - loss: 0.3479 - accuracy: 0.8440 - val_loss: 0.4670 - val_accuracy: 0.8013\n",
      "Epoch 17/25\n",
      "251/251 [==============================] - 45s 178ms/step - loss: 0.3362 - accuracy: 0.8551 - val_loss: 0.4914 - val_accuracy: 0.7944\n",
      "Epoch 18/25\n",
      "251/251 [==============================] - 45s 178ms/step - loss: 0.3121 - accuracy: 0.8638 - val_loss: 0.4951 - val_accuracy: 0.7939\n",
      "Epoch 19/25\n",
      "251/251 [==============================] - 45s 179ms/step - loss: 0.3046 - accuracy: 0.8700 - val_loss: 0.4859 - val_accuracy: 0.8122\n",
      "Epoch 20/25\n",
      "251/251 [==============================] - 45s 178ms/step - loss: 0.2912 - accuracy: 0.8787 - val_loss: 0.5613 - val_accuracy: 0.7988\n",
      "Epoch 21/25\n",
      "251/251 [==============================] - 45s 180ms/step - loss: 0.2774 - accuracy: 0.8798 - val_loss: 0.5008 - val_accuracy: 0.8077\n",
      "Epoch 22/25\n",
      "251/251 [==============================] - 45s 178ms/step - loss: 0.2681 - accuracy: 0.8873 - val_loss: 0.4983 - val_accuracy: 0.8057\n",
      "Epoch 23/25\n",
      "251/251 [==============================] - 45s 179ms/step - loss: 0.2560 - accuracy: 0.8947 - val_loss: 0.5130 - val_accuracy: 0.8112\n",
      "Epoch 24/25\n",
      "251/251 [==============================] - 45s 180ms/step - loss: 0.2446 - accuracy: 0.8983 - val_loss: 0.5136 - val_accuracy: 0.8127\n",
      "Epoch 25/25\n",
      "251/251 [==============================] - 45s 179ms/step - loss: 0.2290 - accuracy: 0.9094 - val_loss: 0.5594 - val_accuracy: 0.8023\n"
     ]
    },
    {
     "data": {
      "text/plain": [
       "<keras.callbacks.History at 0x2a68fc3ef70>"
      ]
     },
     "execution_count": 12,
     "metadata": {},
     "output_type": "execute_result"
    }
   ],
   "source": [
    "cnn.fit(x = training_set, validation_data = test_set, epochs = 25)"
   ]
  },
  {
   "cell_type": "markdown",
   "metadata": {
    "colab_type": "text",
    "id": "U3PZasO0006Z"
   },
   "source": [
    "## Part 4 - Making a single prediction"
   ]
  },
  {
   "cell_type": "code",
   "execution_count": 13,
   "metadata": {},
   "outputs": [
    {
     "name": "stdout",
     "output_type": "stream",
     "text": [
      "1/1 [==============================] - 0s 111ms/step\n"
     ]
    }
   ],
   "source": [
    "import numpy as np\n",
    "from tensorflow.keras.preprocessing import image\n",
    "test_image = image.load_img(\"dataset\\single_predection\\cat_or_dog_1.jpg\", target_size = (64, 64))\n",
    "test_image = image.img_to_array(test_image)\n",
    "test_image = np.expand_dims(test_image, axis = 0)\n",
    "result = cnn.predict(test_image)\n",
    "training_set.class_indices\n",
    "if result[0][0] == 1:\n",
    "  prediction = 'dog'\n",
    "else:\n",
    "  prediction = 'cat'"
   ]
  },
  {
   "cell_type": "code",
   "execution_count": 14,
   "metadata": {},
   "outputs": [
    {
     "name": "stdout",
     "output_type": "stream",
     "text": [
      "cat\n"
     ]
    }
   ],
   "source": [
    "print(prediction)"
   ]
  },
  {
   "cell_type": "code",
   "execution_count": 16,
   "metadata": {
    "colab": {},
    "colab_type": "code",
    "id": "gsSiWEJY1BPB"
   },
   "outputs": [
    {
     "name": "stdout",
     "output_type": "stream",
     "text": [
      "1/1 [==============================] - 0s 23ms/step\n"
     ]
    }
   ],
   "source": [
    "import numpy as np\n",
    "from tensorflow.keras.preprocessing import image\n",
    "test_image = image.load_img(\"dataset\\single_predection\\cat_or_dog_2.jpg\", target_size = (64, 64))\n",
    "test_image = image.img_to_array(test_image)\n",
    "test_image = np.expand_dims(test_image, axis = 0)\n",
    "result = cnn.predict(test_image)\n",
    "training_set.class_indices\n",
    "if result[0][0] == 1:\n",
    "  prediction = 'dog'\n",
    "else:\n",
    "  prediction = 'cat'"
   ]
  },
  {
   "cell_type": "code",
   "execution_count": 17,
   "metadata": {
    "colab": {},
    "colab_type": "code",
    "id": "ED9KB3I54c1i"
   },
   "outputs": [
    {
     "name": "stdout",
     "output_type": "stream",
     "text": [
      "dog\n"
     ]
    }
   ],
   "source": [
    "print(prediction)"
   ]
  },
  {
   "cell_type": "code",
   "execution_count": null,
   "metadata": {},
   "outputs": [],
   "source": []
  }
 ],
 "metadata": {
  "colab": {
   "collapsed_sections": [],
   "name": "convolutional_neural_network.ipynb",
   "provenance": [],
   "toc_visible": true
  },
  "kernelspec": {
   "display_name": "Python 3",
   "language": "python",
   "name": "python3"
  },
  "language_info": {
   "codemirror_mode": {
    "name": "ipython",
    "version": 3
   },
   "file_extension": ".py",
   "mimetype": "text/x-python",
   "name": "python",
   "nbconvert_exporter": "python",
   "pygments_lexer": "ipython3",
   "version": "3.8.8"
  }
 },
 "nbformat": 4,
 "nbformat_minor": 1
}
